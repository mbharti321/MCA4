{
 "cells": [
  {
   "cell_type": "code",
   "execution_count": 1,
   "metadata": {},
   "outputs": [
    {
     "name": "stdout",
     "output_type": "stream",
     "text": [
      "hello\n"
     ]
    }
   ],
   "source": [
    "print (\"hello\")"
   ]
  },
  {
   "cell_type": "code",
   "execution_count": 1,
   "metadata": {},
   "outputs": [
    {
     "name": "stdout",
     "output_type": "stream",
     "text": [
      "\n",
      "\n",
      "1.Print dataSet\n",
      "2.Check For Null\n",
      "3.Normalization\n",
      "4.Interpretation\n",
      "5.Exit\n",
      "Enter the choice: 5\n"
     ]
    }
   ],
   "source": [
    "import numpy as np\n",
    "import pandas as pd\n",
    "\n",
    "filename = 'dataSet/Absenteeism_at_work.csv'\n",
    "# df = pd.read_csv(filename, index_col = 0, na_values = [\"????\"], sep = \";\")\n",
    "df = pd.read_csv(filename, index_col = 0)\n",
    "while(1):\n",
    "    print(\"\\n\\n1.Print dataSet\")\n",
    "    print(\"2.Check For Null\")\n",
    "    print(\"3.Normalization\")\n",
    "    print(\"4.Interpretation\")\n",
    "    print(\"5.Exit\")\n",
    "    choice = int(input(\"Enter the choice: \"))\n",
    "\n",
    "    if (choice == 1):\n",
    "        print(df[:10])\n",
    "\n",
    "\n",
    "    if (choice == 2):\n",
    "        #Deleting missing values..\n",
    "        df.dropna(how='any').shape\n",
    "\n",
    "        #Generating new file\n",
    "        df.to_csv('dataSet/newfile.csv')\n",
    "\n",
    "        new_df = pd.read_csv('dataSet/newfile.csv', index_col = 0, na_values = [\"????\"]) \n",
    "        print(new_df[:10])\n",
    "\n",
    "\n",
    "    if (choice == 3):\n",
    "        print(\"\\n~~~~Normalization~~~~~\")\n",
    "\n",
    "\n",
    "\n",
    "    if (choice == 4):\n",
    "        print(\"\\n~~~~Interpretation~~~~~\")\n",
    "    if (choice == 5):\n",
    "        break\n",
    "\n",
    "\n",
    "\n"
   ]
  },
  {
   "cell_type": "code",
   "execution_count": null,
   "metadata": {},
   "outputs": [
    {
     "name": "stdout",
     "output_type": "stream",
     "text": [
      "\n",
      "Transportation expense: \n",
      "\n",
      "[118 155 179 179 235 260 279 289 289 361]\n"
     ]
    }
   ],
   "source": [
    "#performing min-max normalization\n",
    "import pandas as pd\n",
    "import numpy as np\n",
    "from sklearn import preprocessing\n",
    "def minMaxNor(num,list):\n",
    "    minNum=int(input(\"Enter Minimun Setting:\\t\"))\n",
    "    maxNum = int(input(\"Enter Maximum Setting:\\t\"))\n",
    "    ans=round(((num-min(list))/(max(list)-min(list))*(maxNum-minNum))+minNum,2)\n",
    "    return ans\n",
    "10\n",
    "20\n",
    "\n",
    "# df = pd.read_csv(\"dataSet/Absenteeism_at_work.csv\",sep=';')\n",
    "df = pd.read_csv(\"dataSet/Absenteeism_at_work.csv\")\n",
    "data = df['Transportation expense']\n",
    "data = data[:10] #taking only first 10 data items\n",
    "data=np.sort(data)\n",
    "print('\\nTransportation expense: \\n')\n",
    "print(data)\n",
    "\n",
    "num=int(input(\"Enter an item from data : \\t\"))\n",
    "if num in data:\n",
    "    print(\"Calculating  min-max normalization\")\n",
    "    print(\"After doing min-max normalization :\",minMaxNor(num,data))\n",
    "else:\n",
    "    print(\"Item entered is not present!!\")\n",
    "    print(\"Can't perform normalization on the selected item!\")\n",
    "    \n",
    "\n",
    "data = df['Distance from Residence to Work']\n",
    "data = data[:10] #taking only first 10 data items\n",
    "data=np.sort(data)\n",
    "print(\"\\nDistance from Residence to Work:\\n\")\n",
    "print(data)\n",
    "\n",
    "num=int(input(\"Enter an item from data : \\t\"))\n",
    "if num in data:\n",
    "    print(\"Calculating  min-max normalization\")\n",
    "    print(\"After doing min-max normalization :\",minMaxNor(num,data))\n",
    "else:\n",
    "    print(\"Item entered is not present!!\")\n",
    "    print(\"Can't perform normalization on the selected item!\")"
   ]
  },
  {
   "cell_type": "code",
   "execution_count": null,
   "metadata": {},
   "outputs": [],
   "source": []
  },
  {
   "cell_type": "code",
   "execution_count": null,
   "metadata": {},
   "outputs": [],
   "source": []
  }
 ],
 "metadata": {
  "kernelspec": {
   "display_name": "Python 3",
   "language": "python",
   "name": "python3"
  },
  "language_info": {
   "codemirror_mode": {
    "name": "ipython",
    "version": 3
   },
   "file_extension": ".py",
   "mimetype": "text/x-python",
   "name": "python",
   "nbconvert_exporter": "python",
   "pygments_lexer": "ipython3",
   "version": "3.8.5"
  }
 },
 "nbformat": 4,
 "nbformat_minor": 2
}
