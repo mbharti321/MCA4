{
 "cells": [
  {
   "cell_type": "code",
   "execution_count": 1,
   "metadata": {},
   "outputs": [
    {
     "name": "stdout",
     "output_type": "stream",
     "text": [
      "hello\n"
     ]
    }
   ],
   "source": [
    "print (\"hello\")"
   ]
  },
  {
   "cell_type": "code",
   "execution_count": 1,
   "metadata": {},
   "outputs": [
    {
     "name": "stdout",
     "output_type": "stream",
     "text": [
      "1.Print dataSet\n",
      "2.Check For Null\n",
      "3.Normalization\n",
      "4.Interpretation\n",
      "Enter the choice1\n",
      "    Reason for absence  Month of absence  Day of the week  Seasons  \\\n",
      "ID                                                                   \n",
      "11                  26                 7                3        1   \n",
      "36                   0                 7                3        1   \n",
      "3                   23                 7                4        1   \n",
      "7                    7                 7                5        1   \n",
      "11                  23                 7                5        1   \n",
      "..                 ...               ...              ...      ...   \n",
      "11                  14                 7                3        1   \n",
      "1                   11                 7                3        1   \n",
      "4                    0                 0                3        1   \n",
      "8                    0                 0                4        2   \n",
      "35                   0                 0                6        3   \n",
      "\n",
      "    Transportation expense  Distance from Residence to Work  Service time  \\\n",
      "ID                                                                          \n",
      "11                     289                               36            13   \n",
      "36                     118                               13            18   \n",
      "3                      179                               51            18   \n",
      "7                      279                                5            14   \n",
      "11                     289                               36            13   \n",
      "..                     ...                              ...           ...   \n",
      "11                     289                               36            13   \n",
      "1                      235                               11            14   \n",
      "4                      118                               14            13   \n",
      "8                      231                               35            14   \n",
      "35                     179                               45            14   \n",
      "\n",
      "    Age  Work load Average/day   Hit target  Disciplinary failure  Education  \\\n",
      "ID                                                                             \n",
      "11   33                 239.554          97                     0          1   \n",
      "36   50                 239.554          97                     1          1   \n",
      "3    38                 239.554          97                     0          1   \n",
      "7    39                 239.554          97                     0          1   \n",
      "11   33                 239.554          97                     0          1   \n",
      "..  ...                     ...         ...                   ...        ...   \n",
      "11   33                 264.604          93                     0          1   \n",
      "1    37                 264.604          93                     0          3   \n",
      "4    40                 271.219          95                     0          1   \n",
      "8    39                 271.219          95                     0          1   \n",
      "35   53                 271.219          95                     0          1   \n",
      "\n",
      "    Son  Social drinker  Social smoker  Pet  Weight  Height  Body mass index  \\\n",
      "ID                                                                             \n",
      "11    2               1              0    1      90     172               30   \n",
      "36    1               1              0    0      98     178               31   \n",
      "3     0               1              0    0      89     170               31   \n",
      "7     2               1              1    0      68     168               24   \n",
      "11    2               1              0    1      90     172               30   \n",
      "..  ...             ...            ...  ...     ...     ...              ...   \n",
      "11    2               1              0    1      90     172               30   \n",
      "1     1               0              0    1      88     172               29   \n",
      "4     1               1              0    8      98     170               34   \n",
      "8     2               1              0    2     100     170               35   \n",
      "35    1               0              0    1      77     175               25   \n",
      "\n",
      "    Absenteeism time in hours  \n",
      "ID                             \n",
      "11                          4  \n",
      "36                          0  \n",
      "3                           2  \n",
      "7                           4  \n",
      "11                          2  \n",
      "..                        ...  \n",
      "11                          8  \n",
      "1                           4  \n",
      "4                           0  \n",
      "8                           0  \n",
      "35                          0  \n",
      "\n",
      "[740 rows x 20 columns]\n"
     ]
    }
   ],
   "source": [
    "import numpy as np\n",
    "import pandas as pd\n",
    "\n",
    "filename = 'dataSet/Absenteeism_at_work.csv'\n",
    "# df = pd.read_csv(filename, index_col = 0, na_values = [\"????\"], sep = \";\")\n",
    "df = pd.read_csv(filename, index_col = 0)\n",
    "\n",
    "print(\"1.Print dataSet\")\n",
    "print(\"2.Check For Null\")\n",
    "print(\"3.Normalization\")\n",
    "print(\"4.Interpretation\")\n",
    "choice = int(input(\"Enter the choice\"))\n",
    "\n",
    "if (choice == 1):\n",
    "    print(df)\n",
    "    \n",
    "\n",
    "if (choice == 2):\n",
    "    #Deleting missing values..\n",
    "    df.dropna(how='any').shape\n",
    "\n",
    "    #Generating new file\n",
    "    df.to_csv('dataSet/newfile.csv')\n",
    "\n",
    "    new_df = pd.read_csv('dataSet/newfile.csv', index_col = 0, na_values = [\"????\"], sep = \";\") \n",
    "    print(new_df)\n",
    "\n",
    "\n",
    "if (choice == 3):\n",
    "    print(\"\\n~~~~Normalization~~~~~\")\n",
    "    \n",
    "\n",
    "\n",
    "if (choice == 4):\n",
    "    print(\"\\n~~~~Interpretation~~~~~\")\n",
    "\n",
    "\n",
    "\n"
   ]
  },
  {
   "cell_type": "code",
   "execution_count": 8,
   "metadata": {},
   "outputs": [
    {
     "name": "stdout",
     "output_type": "stream",
     "text": [
      "[118 155 179 179 235 260 279 289 289 361]\n",
      "Enter an item from data : \t289\n",
      "Calculating  min-max normalization\n",
      "Enter Minimun Setting:\t100\n",
      "Enter Maximum Setting:\t250\n",
      "After doing min-max normalization : 205.56\n"
     ]
    }
   ],
   "source": [
    "#performing min-max normalization\n",
    "import pandas as pd\n",
    "from sklearn import preprocessing\n",
    "def minMaxNor(num,list):\n",
    "    minNum=int(input(\"Enter Minimun Setting:\\t\"))\n",
    "    maxNum = int(input(\"Enter Maximum Setting:\\t\"))\n",
    "    ans=round(((num-min(list))/(max(list)-min(list))*(maxNum-minNum))+minNum,2)\n",
    "    return ans\n",
    "# df = pd.read_csv(\"dataSet/Absenteeism_at_work.csv\",sep=';')\n",
    "df = pd.read_csv(\"dataSet/Absenteeism_at_work.csv\")\n",
    "data = df['Transportation expense']\n",
    "data = data[:10] #taking only first 10 data items\n",
    "data=np.sort(data)\n",
    "print(data)\n",
    "\n",
    "num=int(input(\"Enter an item from data : \\t\"))\n",
    "if num in data:\n",
    "    print(\"Calculating  min-max normalization\")\n",
    "    print(\"After doing min-max normalization :\",minMaxNor(num,data))\n",
    "else:\n",
    "    print(\"Item entered is not present!!\")\n",
    "    print(\"Can't perform normalization on the selected item!\")"
   ]
  },
  {
   "cell_type": "code",
   "execution_count": null,
   "metadata": {},
   "outputs": [],
   "source": []
  },
  {
   "cell_type": "code",
   "execution_count": null,
   "metadata": {},
   "outputs": [],
   "source": []
  }
 ],
 "metadata": {
  "kernelspec": {
   "display_name": "Python 3",
   "language": "python",
   "name": "python3"
  },
  "language_info": {
   "codemirror_mode": {
    "name": "ipython",
    "version": 3
   },
   "file_extension": ".py",
   "mimetype": "text/x-python",
   "name": "python",
   "nbconvert_exporter": "python",
   "pygments_lexer": "ipython3",
   "version": "3.8.5"
  }
 },
 "nbformat": 4,
 "nbformat_minor": 2
}
