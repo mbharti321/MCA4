{
 "cells": [
  {
   "cell_type": "markdown",
   "metadata": {
    "id": "TcOaRJS7jnwT"
   },
   "source": [
    "**Manish Bharti 1947235**\n"
   ]
  },
  {
   "cell_type": "markdown",
   "metadata": {
    "id": "sbF-lVUPir82"
   },
   "source": [
    "**Data Source:** https://archive.ics.uci.edu/ml/datasets/Car+Evaluation\n",
    "1. Title: Car Evaluation Database\n",
    "\n",
    "2. Sources:\n",
    "  *   Creator: Marko Bohanec\n",
    "  *   Donors: \n",
    "    * Marko Bohanec   (marko.bohanec@ijs.si)\n",
    "    * Blaz Zupan(blaz.zupan@ijs.si)\n",
    "  *   Date: June, 1997\n",
    "\n",
    "\n",
    "\n",
    "*   CAR            ------          car acceptability\n",
    "    * PRICE       ------           overall price\n",
    "      * buying    ------           buying price\n",
    "      * maint     ------           price of the maintenance\n",
    "    * TECH    ------  technical characteristics\n",
    "     * COMFORT            \n",
    "      * doors       ------       number of doors\n",
    "      * persons     ------       capacity in terms of persons to carry\n",
    "      * lug_boot    ------       the size of luggage boot\n",
    "     * safety        ------       estimated safety of the car\n",
    "\n",
    "*   The Car Evaluation Database contains examples with the structural\n",
    "   information removed, i.e., directly relates CAR to the six input\n",
    "   attributes: buying, maint, doors, persons, lug_boot, safety.\n",
    "\n",
    "   Because of known underlying concept structure, this database may be\n",
    "   particularly useful for testing constructive induction and\n",
    "   structure discovery methods.\n",
    "\n",
    "* Number of Instances: 1728\n",
    "   (instances completely cover the attribute space)\n",
    "\n",
    "* Number of Attributes: 6\n",
    "\n",
    "* Attribute Values:\n",
    "\n",
    "   * buying  ->     v-high, high, med, low\n",
    "   * maint    ->    v-high, high, med, low\n",
    "   * doors   ->     2, 3, 4, 5-more\n",
    "   * persons ->     2, 4, more\n",
    "   * lug_boot  ->   small, med, big\n",
    "   * safety   ->    low, med, high\n",
    "\n"
   ]
  },
  {
   "cell_type": "code",
   "execution_count": 1,
   "metadata": {
    "colab": {
     "base_uri": "https://localhost:8080/",
     "height": 37,
     "resources": {
      "http://localhost:8080/nbextensions/google.colab/files.js": {
       "data": "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",
       "headers": [
        [
         "content-type",
         "application/javascript"
        ]
       ],
       "ok": true,
       "status": 200,
       "status_text": ""
      }
     }
    },
    "id": "QKgMbVgDj4rW",
    "outputId": "23950c9a-30b9-4d89-95d9-dd44e81dc2dc"
   },
   "outputs": [],
   "source": [
    "import pandas as pd\n",
    "import numpy as np\n",
    "\n",
    "# from google.colab import files\n",
    "# uploaded = files.upload()"
   ]
  },
  {
   "cell_type": "code",
   "execution_count": 2,
   "metadata": {
    "colab": {
     "base_uri": "https://localhost:8080/"
    },
    "id": "9i9U0BE4sK_K",
    "outputId": "754d4b2c-bee7-4c6a-ebdf-e2817e542930"
   },
   "outputs": [
    {
     "name": "stdout",
     "output_type": "stream",
     "text": [
      "##################################################\n",
      "First 5 rows of the dataset\n",
      "##################################################\n",
      "  Buying Maintanance Doors Persons Lug_boot Safety Acceptability\n",
      "0  vhigh       vhigh     2       2    small    low         unacc\n",
      "1  vhigh       vhigh     2       2    small    med         unacc\n",
      "2  vhigh       vhigh     2       2    small   high         unacc\n",
      "3  vhigh       vhigh     2       2      med    low         unacc\n",
      "4  vhigh       vhigh     2       2      med    med         unacc\n",
      "##################################################\n",
      "Statistical description of the dataset\n",
      "##################################################\n",
      "       Buying Maintanance Doors Persons Lug_boot Safety Acceptability\n",
      "count    1728        1728  1728    1728     1728   1728          1728\n",
      "unique      4           4     4       3        3      3             4\n",
      "top       low         low     4       4      med    low         unacc\n",
      "freq      432         432   432     576      576    576          1210\n",
      "##################################################\n",
      "Number of missing values in each column\n",
      "##################################################\n",
      "Buying           0\n",
      "Maintanance      0\n",
      "Doors            0\n",
      "Persons          0\n",
      "Lug_boot         0\n",
      "Safety           0\n",
      "Acceptability    0\n",
      "dtype: int64\n"
     ]
    }
   ],
   "source": [
    "import statistics\n",
    "import matplotlib.pyplot as plt \n",
    "#Load the dataset\n",
    "# df = pd.read_csv(\"car.csv\")\n",
    "df = pd.read_csv(\"https://raw.githubusercontent.com/mbharti321/MCA4/main/MCA4-DataAnalytics/dataSet/car.csv\")\n",
    "print(\"##################################################\")\n",
    "print(\"First 5 rows of the dataset\")\n",
    "print(\"##################################################\")\n",
    "print(df.head())\n",
    "#Description of dataset\n",
    "print(\"##################################################\")\n",
    "print(\"Statistical description of the dataset\")\n",
    "print(\"##################################################\")\n",
    "print(df.describe())\n",
    "#find number of missing values in each column \n",
    "print(\"##################################################\")\n",
    "print(\"Number of missing values in each column\")\n",
    "print(\"##################################################\")\n",
    "print(df.isnull().sum())"
   ]
  },
  {
   "cell_type": "code",
   "execution_count": 3,
   "metadata": {
    "colab": {
     "base_uri": "https://localhost:8080/"
    },
    "id": "UXMg1W4MzIyw",
    "outputId": "7e53c55f-875c-47fe-f8cf-baa56466bfd1"
   },
   "outputs": [],
   "source": [
    "# ['Buying', 'Maintanance', 'Doors', 'Persons', 'Lug_boot', 'Safety', 'Acceptability']\n",
    "newBuying = []\n",
    "for data in df[\"Buying\"]:\n",
    "  # print(data)\n",
    "  if(data == \"low\"):\n",
    "    newBuying.append(0);\n",
    "  elif(data == \"med\"):\n",
    "    newBuying.append(1);\n",
    "  elif(data == \"high\"):\n",
    "    newBuying.append(2);\n",
    "  elif(data == \"vhigh\"):\n",
    "    newBuying.append(3);\n",
    "\n",
    "# print(newBuying)\n",
    "  "
   ]
  },
  {
   "cell_type": "code",
   "execution_count": 6,
   "metadata": {
    "colab": {
     "base_uri": "https://localhost:8080/"
    },
    "id": "JTpTtJuQ8Yc7",
    "outputId": "d67dc4fb-3674-47d1-c59a-f999ebc094ce"
   },
   "outputs": [],
   "source": [
    "# ['Buying', 'Maintanance', 'Doors', 'Persons', 'Lug_boot', 'Safety', 'Acceptability']\n",
    "newMaintanance = []\n",
    "for data in df[\"Maintanance\"]:\n",
    "  # print(data)\n",
    "  if(data == \"low\"):\n",
    "    newMaintanance.append(0)\n",
    "  elif(data == \"med\"):\n",
    "    newMaintanance.append(1)\n",
    "  elif(data == \"high\"):\n",
    "    newMaintanance.append(2)\n",
    "  elif(data == \"vhigh\"):\n",
    "    newMaintanance.append(3)\n",
    "\n",
    "# print(newMaintanance)"
   ]
  },
  {
   "cell_type": "code",
   "execution_count": 4,
   "metadata": {
    "colab": {
     "base_uri": "https://localhost:8080/"
    },
    "id": "mhY8jriR8scR",
    "outputId": "cfab4ec4-922f-47d1-99c4-599596bb9c9b"
   },
   "outputs": [],
   "source": [
    "# ['Buying', 'Maintanance', 'Doors', 'Persons', 'Lug_boot', 'Safety', 'Acceptability']\n",
    "newDoors = []\n",
    "for data in df[\"Doors\"]:\n",
    "  if(data == \"5more\"):\n",
    "    # newDoors.append(np.random.randint(5,8))\n",
    "    newDoors.append(5)\n",
    "  else:\n",
    "    newDoors.append(data)\n",
    "\n",
    "# print(newDoors)"
   ]
  },
  {
   "cell_type": "code",
   "execution_count": null,
   "metadata": {
    "id": "ThKRtEpm-ucl"
   },
   "outputs": [],
   "source": []
  },
  {
   "cell_type": "code",
   "execution_count": 5,
   "metadata": {
    "colab": {
     "base_uri": "https://localhost:8080/"
    },
    "id": "KmojgB1p9oLo",
    "outputId": "4199dadf-1369-489e-a054-40300bb3596a"
   },
   "outputs": [],
   "source": [
    "# ['Buying', 'Maintanance', 'Doors', 'Persons', 'Lug_boot', 'Safety', 'Acceptability']\n",
    "newPersons = []\n",
    "for data in df[\"Persons\"]:\n",
    "  if(data == \"more\"):\n",
    "    # newPersons.append(np.random.randint(5,10))\n",
    "    newPersons.append(6)\n",
    "    \n",
    "  else:\n",
    "    newPersons.append(data)\n",
    "\n",
    "# print(newPersons)"
   ]
  },
  {
   "cell_type": "code",
   "execution_count": 7,
   "metadata": {
    "colab": {
     "base_uri": "https://localhost:8080/"
    },
    "id": "5REWzfFY_E7F",
    "outputId": "b1ec9a79-6a31-4909-f5e8-45c31dce9c2a"
   },
   "outputs": [],
   "source": [
    "# ['Buying', 'Maintanance', 'Doors', 'Persons', 'Lug_boot', 'Safety', 'Acceptability']\n",
    "newLug_boot = []\n",
    "for data in df[\"Lug_boot\"]:\n",
    "  if(data == \"small\"):\n",
    "    newLug_boot.append(0);\n",
    "  elif(data == \"med\"):\n",
    "    newLug_boot.append(1);\n",
    "  elif(data == \"big\"):\n",
    "    newLug_boot.append(2);\n",
    "\n",
    "# print(newLug_boot)"
   ]
  },
  {
   "cell_type": "code",
   "execution_count": 8,
   "metadata": {
    "colab": {
     "base_uri": "https://localhost:8080/"
    },
    "id": "yJinOkAR931A",
    "outputId": "98aec9e4-40e0-48e8-9ba2-b612f27efac6"
   },
   "outputs": [],
   "source": [
    "# ['Buying', 'Maintanance', 'Doors', 'Persons', 'Lug_boot', 'Safety', 'Acceptability']\n",
    "newSafety = []\n",
    "for data in df[\"Safety\"]:\n",
    "  if(data == \"low\"):\n",
    "    newSafety.append(0);\n",
    "  elif(data == \"med\"):\n",
    "    newSafety.append(1);\n",
    "  elif(data == \"high\"):\n",
    "    newSafety.append(2);\n",
    "\n",
    "# print(newSafety)"
   ]
  },
  {
   "cell_type": "code",
   "execution_count": 10,
   "metadata": {
    "id": "xLYBGIIfAAKz"
   },
   "outputs": [],
   "source": [
    "# ['Buying', 'Maintanance', 'Doors', 'Persons', 'Lug_boot', 'Safety', 'Acceptability']\n",
    "newAcceptability = []\n",
    "unacc, acc, good, vgood = 0,0,0,0\n",
    "for data in df[\"Acceptability\"]:\n",
    "  # if data not in newAcceptability:\n",
    "    # newAcceptability.append(data)\n",
    "  if(data == \"unacc\"):\n",
    "    unacc += 1\n",
    "    newAcceptability.append(0);\n",
    "  elif(data == \"acc\"):\n",
    "    acc += 1\n",
    "    newAcceptability.append(1);\n",
    "  elif(data == \"good\"):\n",
    "    good += 1\n",
    "    newAcceptability.append(2);\n",
    "  elif(data == \"vgood\"):\n",
    "    vgood += 1\n",
    "    newAcceptability.append(3);\n",
    "\n",
    "# print(newAcceptability)"
   ]
  },
  {
   "cell_type": "code",
   "execution_count": 11,
   "metadata": {
    "id": "C7UBUjILDt4C"
   },
   "outputs": [],
   "source": [
    "carDataArray = np.concatenate(([newBuying], [newMaintanance], [newDoors], [newPersons], [newLug_boot], [newSafety], [newAcceptability]))\n",
    "# print(carDataArray.shape)\n",
    "# print(carDataArray)\n",
    "\n",
    "#getting transpose of the newlygenerated matrix\n",
    "carDataArray = np.transpose(carDataArray)\n",
    "# print(carDataArray.shape)\n",
    "# print(carDataArray)\n"
   ]
  },
  {
   "cell_type": "code",
   "execution_count": 12,
   "metadata": {
    "colab": {
     "base_uri": "https://localhost:8080/"
    },
    "id": "z-TWF5rwfo4Q",
    "outputId": "d8746c5c-a610-4402-db2e-5e6c7d11c50d"
   },
   "outputs": [
    {
     "name": "stdout",
     "output_type": "stream",
     "text": [
      "##################################################\n",
      "First 5 rows of the updated dataset\n",
      "##################################################\n",
      "\n",
      "   Buying  Maintanance  Doors  Persons  Lug_boot  Safety  Acceptability\n",
      "0       3            3      2        2         0       0              0\n",
      "1       3            3      2        2         0       1              0\n",
      "2       3            3      2        2         0       2              0\n",
      "3       3            3      2        2         1       0              0\n",
      "4       3            3      2        2         1       1              0\n",
      "Index(['Buying', 'Maintanance', 'Doors', 'Persons', 'Lug_boot', 'Safety',\n",
      "       'Acceptability'],\n",
      "      dtype='object')\n"
     ]
    }
   ],
   "source": [
    "newCar = pd.DataFrame(carDataArray, columns = df.columns)\n",
    "newCar.to_csv('newCar.csv',index=False)\n",
    "\n",
    "dfNew = pd.read_csv(\"newCar.csv\")\n",
    "print(\"##################################################\")\n",
    "print(\"First 5 rows of the updated dataset\")\n",
    "print(\"##################################################\\n\")\n",
    "print(dfNew.head())\n",
    "print(dfNew.columns)"
   ]
  },
  {
   "cell_type": "code",
   "execution_count": 13,
   "metadata": {
    "colab": {
     "base_uri": "https://localhost:8080/",
     "height": 644
    },
    "id": "Nn-S-Kx_vmGm",
    "outputId": "71c7b598-36fc-4e6d-9388-9a478133c732"
   },
   "outputs": [
    {
     "name": "stdout",
     "output_type": "stream",
     "text": [
      "##################################################\n",
      "BoxPlot for the condition attributes\n",
      "##################################################\n"
     ]
    },
    {
     "data": {
      "image/png": "[encoded data removed]",
      "text/plain": [
       "<Figure size 720x720 with 1 Axes>"
      ]
     },
     "metadata": {
      "needs_background": "light"
     },
     "output_type": "display_data"
    }
   ],
   "source": [
    "print(\"##################################################\")\n",
    "print(\"BoxPlot for the condition attributes\")\n",
    "print(\"##################################################\")\n",
    "# ['Buying', 'Maintanance', 'Doors', 'Persons', 'Lug_boot', 'Safety', 'Acceptability']\n",
    "data = [dfNew['Buying'],dfNew['Maintanance'],dfNew['Doors'],dfNew['Persons'],dfNew['Lug_boot'],dfNew['Safety'],dfNew['Acceptability']]\n",
    "fig,ax = plt.subplots(figsize=(10,10)) \n",
    "ax.boxplot(data, labels=dfNew.columns) \n",
    "plt.show()"
   ]
  },
  {
   "cell_type": "code",
   "execution_count": 14,
   "metadata": {
    "colab": {
     "base_uri": "https://localhost:8080/"
    },
    "id": "6d-i7dCfwnWh",
    "outputId": "3c7abe71-9bd1-40db-9408-9dfaa207a109"
   },
   "outputs": [
    {
     "name": "stdout",
     "output_type": "stream",
     "text": [
      "['Buying', 'Maintanance', 'Doors', 'Persons', 'Lug_boot', 'Safety', 'Acceptability']\n",
      "##################################################\n",
      "After Min Max normalization\n",
      "##################################################\n",
      "      Buying  Maintanance  Doors  Persons  Lug_boot  Safety  Acceptability\n",
      "0          3            3      2        2         0      10             10\n",
      "1          3            3      2        2         0       1              1\n",
      "2          3            3      2        2         0       5              1\n",
      "3          3            3      2        2         1      10              1\n",
      "4          3            3      2        2         1       1              1\n",
      "...      ...          ...    ...      ...       ...     ...            ...\n",
      "1723       0            0      5        6         1       1              1\n",
      "1724       0            0      5        6         1       5              7\n",
      "1725       0            0      5        6         2      10             10\n",
      "1726       0            0      5        6         2       1              1\n",
      "1727       0            0      5        6         2       5              7\n",
      "\n",
      "[1728 rows x 7 columns]\n"
     ]
    }
   ],
   "source": [
    "#Min Max normalization\n",
    "def minmaxnormalization(col,ll,ul):\n",
    "  arr1 = []\n",
    "  mean = dfNew[col].mean()\n",
    "  sd = statistics.stdev(dfNew[col])\n",
    "  max = dfNew[col].max()\n",
    "  min = dfNew[col].min()\n",
    "  for i in dfNew[col]: \n",
    "    val = (i - min) / (max - min)\n",
    "    val1 = val * (ul - ll)+ll\n",
    "    arr1.append(val1)\n",
    "   \n",
    "  for  k in range(len(df)):\n",
    "    dfNew[col][k] = arr1[k-1]\n",
    "\n",
    "columns = list(dfNew)\n",
    "print(columns)\n",
    "for i in columns[5:]:\n",
    "  minmaxnormalization(i,1,10)\n",
    "\n",
    "print(\"##################################################\")\n",
    "print(\"After Min Max normalization\")\n",
    "print(\"##################################################\")\n",
    "print(dfNew)"
   ]
  },
  {
   "cell_type": "code",
   "execution_count": 88,
   "metadata": {
    "colab": {
     "base_uri": "https://localhost:8080/",
     "height": 1000
    },
    "id": "gcOYQuzCxVAe",
    "outputId": "13190eb5-a07d-4e7b-abec-9e9c58fbdf72"
   },
   "outputs": [
    {
     "name": "stdout",
     "output_type": "stream",
     "text": [
      "##################################################\n",
      "Scatter Plot\n",
      "##################################################\n"
     ]
    },
    {
     "data": {
      "image/png": "[encoded data removed]",
      "text/plain": [
       "<Figure size 432x288 with 1 Axes>"
      ]
     },
     "metadata": {
      "needs_background": "light",
      "tags": []
     },
     "output_type": "display_data"
    },
    {
     "data": {
      "image/png": "[encoded data removed]",
      "text/plain": [
       "<Figure size 432x288 with 1 Axes>"
      ]
     },
     "metadata": {
      "needs_background": "light",
      "tags": []
     },
     "output_type": "display_data"
    },
    {
     "data": {
      "image/png": "[encoded data removed]",
      "text/plain": [
       "<Figure size 432x288 with 1 Axes>"
      ]
     },
     "metadata": {
      "needs_background": "light",
      "tags": []
     },
     "output_type": "display_data"
    },
    {
     "data": {
      "image/png": "[encoded data removed]",
      "text/plain": [
       "<Figure size 432x288 with 1 Axes>"
      ]
     },
     "metadata": {
      "needs_background": "light",
      "tags": []
     },
     "output_type": "display_data"
    },
    {
     "data": {
      "image/png": "[encoded data removed]",
      "text/plain": [
       "<Figure size 432x288 with 1 Axes>"
      ]
     },
     "metadata": {
      "needs_background": "light",
      "tags": []
     },
     "output_type": "display_data"
    },
    {
     "data": {
      "image/png": "[encoded data removed]",
      "text/plain": [
       "<Figure size 432x288 with 1 Axes>"
      ]
     },
     "metadata": {
      "needs_background": "light",
      "tags": []
     },
     "output_type": "display_data"
    },
    {
     "data": {
      "image/png": "[encoded data removed]",
      "text/plain": [
       "<Figure size 432x288 with 1 Axes>"
      ]
     },
     "metadata": {
      "needs_background": "light",
      "tags": []
     },
     "output_type": "display_data"
    }
   ],
   "source": [
    "print(\"##################################################\")\n",
    "print(\"Scatter Plot\")\n",
    "print(\"##################################################\")\n",
    "for i,j in zip(columns[0:],dfNew.columns):\n",
    "  plt.scatter(dfNew['Acceptability'],dfNew[i])\n",
    "  plt.xlabel(\"Acceptability\") \n",
    "  plt.ylabel(i) \n",
    "  plt.show()\n"
   ]
  },
  {
   "cell_type": "code",
   "execution_count": 15,
   "metadata": {
    "colab": {
     "base_uri": "https://localhost:8080/",
     "height": 312
    },
    "id": "1EiNjUy8zq6D",
    "outputId": "322d2c83-d68e-41da-9b2c-ed81ec2b524f"
   },
   "outputs": [
    {
     "ename": "ModuleNotFoundError",
     "evalue": "No module named 'heatmap'",
     "output_type": "error",
     "traceback": [
      "\u001b[1;31m---------------------------------------------------------------------------\u001b[0m",
      "\u001b[1;31mModuleNotFoundError\u001b[0m                       Traceback (most recent call last)",
      "\u001b[1;32m<ipython-input-15-b0a94b3883d2>\u001b[0m in \u001b[0;36m<module>\u001b[1;34m\u001b[0m\n\u001b[0;32m      1\u001b[0m \u001b[1;31m# Import the two methods from heatmap library\u001b[0m\u001b[1;33m\u001b[0m\u001b[1;33m\u001b[0m\u001b[1;33m\u001b[0m\u001b[0m\n\u001b[1;32m----> 2\u001b[1;33m \u001b[1;32mfrom\u001b[0m \u001b[0mheatmap\u001b[0m \u001b[1;32mimport\u001b[0m \u001b[0mheatmap\u001b[0m\u001b[1;33m,\u001b[0m \u001b[0mcorrplot\u001b[0m\u001b[1;33m\u001b[0m\u001b[1;33m\u001b[0m\u001b[0m\n\u001b[0m\u001b[0;32m      3\u001b[0m \u001b[1;32mimport\u001b[0m \u001b[0mseaborn\u001b[0m \u001b[1;32mas\u001b[0m \u001b[0msns\u001b[0m\u001b[1;33m\u001b[0m\u001b[1;33m\u001b[0m\u001b[0m\n\u001b[0;32m      4\u001b[0m \u001b[1;33m\u001b[0m\u001b[0m\n\u001b[0;32m      5\u001b[0m \u001b[0mcorr\u001b[0m \u001b[1;33m=\u001b[0m \u001b[0mdfNew\u001b[0m\u001b[1;33m.\u001b[0m\u001b[0mcorr\u001b[0m\u001b[1;33m(\u001b[0m\u001b[1;33m)\u001b[0m\u001b[1;33m\u001b[0m\u001b[1;33m\u001b[0m\u001b[0m\n",
      "\u001b[1;31mModuleNotFoundError\u001b[0m: No module named 'heatmap'"
     ]
    }
   ],
   "source": [
    "\n",
    "# Import the two methods from heatmap library\n",
    "!\n",
    "from heatmap import heatmap, corrplot\n",
    "import seaborn as sns\n",
    "\n",
    "corr = dfNew.corr()\n",
    "# sns.heatmap(corr, annot=True)\n",
    "# plt.show()\n",
    "\n",
    "ax = sns.heatmap(\n",
    "    corr, \n",
    "    vmin=-1, vmax=1, center=0,\n",
    "    cmap=sns.diverging_palette(20, 220, n=200),\n",
    "    square=True,\n",
    "    annot=True,\n",
    ")\n",
    "ax.set_xticklabels(\n",
    "    ax.get_xticklabels(),\n",
    "    rotation=45,\n",
    "    horizontalalignment='right'\n",
    ");\n",
    "\n"
   ]
  },
  {
   "cell_type": "code",
   "execution_count": 129,
   "metadata": {
    "colab": {
     "base_uri": "https://localhost:8080/",
     "height": 366
    },
    "id": "wIg7jaS6KBFE",
    "outputId": "ee7a18ae-3814-413b-c5e0-28ea194eddd1"
   },
   "outputs": [
    {
     "data": {
      "image/png": "[encoded data removed]",
      "text/plain": [
       "<Figure size 720x360 with 1 Axes>"
      ]
     },
     "metadata": {
      "needs_background": "light",
      "tags": []
     },
     "output_type": "display_data"
    }
   ],
   "source": [
    "import matplotlib.pyplot as plt\n",
    "\n",
    "x = ['unacc', 'acc', 'good', 'vgood']\n",
    "y = [unacc, acc, good, vgood]\n",
    "# plt.bar(x, y)\n",
    "\n",
    "#Creating a figure with some fig size\n",
    "fig, ax = plt.subplots(figsize = (10,5))\n",
    "ax.bar(x,y,width=0.4)\n",
    "#Now the trick is here.\n",
    "#plt.text() , you need to give (x,y) location , where you want to put the numbers,\n",
    "#So here index will give you x pos and data+1 will provide a little gap in y axis.\n",
    "for index,data in enumerate(y):\n",
    "    plt.text(x=index , y =data+1, s=f\"{data}\" , fontdict=dict(fontsize=20))\n",
    "\n",
    "plt.tight_layout()\n",
    "plt.show()"
   ]
  },
  {
   "cell_type": "markdown",
   "metadata": {
    "id": "4X560alJ6o5u"
   },
   "source": [
    "Car valuation dataset has data of both integer and string type. To do analysis and visualization, data should be in integer.\n",
    "* All data has been converted into integer.\n",
    "To do so, all data has been given integer value based on their value.\n",
    "\n",
    "```\n",
    "buying       vhigh, high, med, low ( are converted into [3,2,1,0])\n",
    "maint        vhigh, high, med, low ( are converted into [3,2,1,0])\n",
    "doors        2, 3, 4, 5-more       (5-more is converted into 5)\n",
    "persons      2, 4, more            (more is converted into 6)\n",
    "lug_boot     small, med, big       ( are converted into [2,1,0])\n",
    "safety       low, med, high        ( are converted into [2,1,0])\n",
    "```\n",
    "\n",
    "\n",
    "From the box plot, it is clear that all the 6 attribute has outliers.The highest value and highest mean value is for the persons attribute.Similarly the lowest mean is for Acceptibility attribute.\n",
    "Data Transformation Technique,Normalization is done on conditional attribute and the value is changed to a range of 1 to 10.\n",
    "Finally Scatter plot, bar chart and heatmap are  used to visualize dataset attributes.Here the target attribute is 'Acceptability', and in the scatter plot, all the conditional attribute is compared with this target Attribute \n",
    "\n",
    "\n",
    "*   In **barchart**, its shown that the maximum cars are not not acceptable.\n",
    "*   From **box plot**, it can be seen that the acceptancy is so near to safety attribute. So users tends to accept the car which has better safety.\n",
    "\n"
   ]
  }
 ],
 "metadata": {
  "colab": {
   "collapsed_sections": [],
   "name": "1947235_CarEvaluation.ipynb",
   "provenance": []
  },
  "kernelspec": {
   "display_name": "Python 3",
   "language": "python",
   "name": "python3"
  },
  "language_info": {
   "codemirror_mode": {
    "name": "ipython",
    "version": 3
   },
   "file_extension": ".py",
   "mimetype": "text/x-python",
   "name": "python",
   "nbconvert_exporter": "python",
   "pygments_lexer": "ipython3",
   "version": "3.8.5"
  }
 },
 "nbformat": 4,
 "nbformat_minor": 1
}
